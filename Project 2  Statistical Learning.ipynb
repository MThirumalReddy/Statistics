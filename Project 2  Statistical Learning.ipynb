{
 "cells": [
  {
   "cell_type": "markdown",
   "metadata": {},
   "source": [
    "# Find the mean of old scheme and new scheme column. (5 points)\n"
   ]
  },
  {
   "cell_type": "code",
   "execution_count": 7,
   "metadata": {},
   "outputs": [],
   "source": [
    "import numpy as np\n",
    "import pandas as pd"
   ]
  },
  {
   "cell_type": "code",
   "execution_count": 10,
   "metadata": {},
   "outputs": [
    {
     "name": "stdout",
     "output_type": "stream",
     "text": [
      "Mean of Old Scheme is 68.03333333333333\n",
      "Mean of New Scheme is 72.03333333333333\n"
     ]
    }
   ],
   "source": [
    "titan_sales_df=pd.read_excel(io=\"Titan_Data.xls\")\n",
    "titan_sales_df['Old Scheme (in thousands)'].mean()\n",
    "titan_sales_df['New Scheme (in thousands)'].mean()\n",
    "print(\"Mean of Old Scheme is {}\".format(titan_sales_df['Old Scheme (in thousands)'].mean()))\n",
    "print(\"Mean of New Scheme is {}\".format(titan_sales_df['New Scheme (in thousands)'].mean()))\n",
    "\n",
    "\n"
   ]
  },
  {
   "cell_type": "markdown",
   "metadata": {},
   "source": [
    "# Use the five percent significance test over the data to determine the p value to check new scheme has significantly raised outputs? (10 points)\n"
   ]
  },
  {
   "cell_type": "code",
   "execution_count": 11,
   "metadata": {},
   "outputs": [
    {
     "data": {
      "text/plain": [
       "Ttest_relResult(statistic=-1.5559143823544377, pvalue=0.13057553961337662)"
      ]
     },
     "execution_count": 11,
     "metadata": {},
     "output_type": "execute_result"
    }
   ],
   "source": [
    "from scipy.stats import ttest_rel\n",
    "ttest_rel(titan_sales_df['Old Scheme (in thousands)'],titan_sales_df['New Scheme (in thousands)'])\n"
   ]
  },
  {
   "cell_type": "markdown",
   "metadata": {},
   "source": [
    "# What conclusion does the test (p-value) lead to? (2.5 points)\n",
    "\n",
    "#Null Hypothesis : There is no significant Increase in Output Sales. i.e there is no differance between Mean before New Sales Policy and Mean After Sales policy.  ( Population Mean Before Sales Policy = Population Mean after Sales Policy)\n",
    "\n",
    "#Alternate Hypothesis : New Scheme has significantly Raised Output Sales. i.e Population Mean After Sales Policy > Population Mean Before Sales Polic1y ( Only Upper Tail). Lower Tail will be the Population Mean After Sales Policy < Population Mean Before Sales Policy.\n",
    "\n",
    "#Since t(static) is not less than Critical T( alpha=.05/2) ( -1.5559 not less than -2.0452) or t(static) is not greater than Critical T( alpha=.05)/2) ( -1.5559 not greater than 2.0452). So We accept Null Hypothesis.\n",
    "\n",
    "# So New Scheme has not increased the Sales Output"
   ]
  },
  {
   "cell_type": "code",
   "execution_count": 30,
   "metadata": {},
   "outputs": [
    {
     "name": "stdout",
     "output_type": "stream",
     "text": [
      "Help on function ttest_1samp in module scipy.stats.stats:\n",
      "\n",
      "ttest_1samp(a, popmean, axis=0, nan_policy='propagate')\n",
      "    Calculate the T-test for the mean of ONE group of scores.\n",
      "    \n",
      "    This is a two-sided test for the null hypothesis that the expected value\n",
      "    (mean) of a sample of independent observations `a` is equal to the given\n",
      "    population mean, `popmean`.\n",
      "    \n",
      "    Parameters\n",
      "    ----------\n",
      "    a : array_like\n",
      "        sample observation\n",
      "    popmean : float or array_like\n",
      "        expected value in null hypothesis. If array_like, then it must have the\n",
      "        same shape as `a` excluding the axis dimension\n",
      "    axis : int or None, optional\n",
      "        Axis along which to compute test. If None, compute over the whole\n",
      "        array `a`.\n",
      "    nan_policy : {'propagate', 'raise', 'omit'}, optional\n",
      "        Defines how to handle when input contains nan. 'propagate' returns nan,\n",
      "        'raise' throws an error, 'omit' performs the calculations ignoring nan\n",
      "        values. Default is 'propagate'.\n",
      "    \n",
      "    Returns\n",
      "    -------\n",
      "    statistic : float or array\n",
      "        t-statistic\n",
      "    pvalue : float or array\n",
      "        two-tailed p-value\n",
      "    \n",
      "    Examples\n",
      "    --------\n",
      "    >>> from scipy import stats\n",
      "    \n",
      "    >>> np.random.seed(7654567)  # fix seed to get the same result\n",
      "    >>> rvs = stats.norm.rvs(loc=5, scale=10, size=(50,2))\n",
      "    \n",
      "    Test if mean of random sample is equal to true mean, and different mean.\n",
      "    We reject the null hypothesis in the second case and don't reject it in\n",
      "    the first case.\n",
      "    \n",
      "    >>> stats.ttest_1samp(rvs,5.0)\n",
      "    (array([-0.68014479, -0.04323899]), array([ 0.49961383,  0.96568674]))\n",
      "    >>> stats.ttest_1samp(rvs,0.0)\n",
      "    (array([ 2.77025808,  4.11038784]), array([ 0.00789095,  0.00014999]))\n",
      "    \n",
      "    Examples using axis and non-scalar dimension for population mean.\n",
      "    \n",
      "    >>> stats.ttest_1samp(rvs,[5.0,0.0])\n",
      "    (array([-0.68014479,  4.11038784]), array([  4.99613833e-01,   1.49986458e-04]))\n",
      "    >>> stats.ttest_1samp(rvs.T,[5.0,0.0],axis=1)\n",
      "    (array([-0.68014479,  4.11038784]), array([  4.99613833e-01,   1.49986458e-04]))\n",
      "    >>> stats.ttest_1samp(rvs,[[5.0],[0.0]])\n",
      "    (array([[-0.68014479, -0.04323899],\n",
      "           [ 2.77025808,  4.11038784]]), array([[  4.99613833e-01,   9.65686743e-01],\n",
      "           [  7.89094663e-03,   1.49986458e-04]]))\n",
      "\n"
     ]
    }
   ],
   "source": [
    "import scipy.stats as stas\n",
    "help(stas.ttest_1samp)"
   ]
  },
  {
   "cell_type": "markdown",
   "metadata": {},
   "source": [
    "# Suppose it has been calculated that in order for Titan to break even, the average output must increase by £5000 in the scheme compared to the old scheme. If this figure is alternative hypothesis, what is:\n"
   ]
  },
  {
   "cell_type": "markdown",
   "metadata": {},
   "source": [
    "#        a) The probability of a type 1 error? (2.5 points)\n",
    "\n"
   ]
  },
  {
   "cell_type": "code",
   "execution_count": 54,
   "metadata": {},
   "outputs": [
    {
     "name": "stdout",
     "output_type": "stream",
     "text": [
      "T_static Value is -0.2277777033787061 and Probablilty is 0.8214173994071824\n"
     ]
    }
   ],
   "source": [
    "#Null Hypothesis: The New Scheme Mean is equal 73.034 ( 68.034+5)\n",
    "#Alternate Hypothesis: The New Scheme Mean is Not Equal to  73.034 ( 68.034+5) ( 2 Tailed)\n",
    "#Alternate Hypothesis: The New Scheme Mean is Greater than  73.034 ( 68.034+5) ( Upper Tailed)\n",
    "#Alternate Hypothesis: The New Scheme Mean is Less than  73.034 ( 68.034+5) ( Lower Tailed)\n",
    "# Caluclating the test for  Population Mean  using Single T Test.\n",
    "\n",
    "import scipy.stats as stas\n",
    "t_stat,p_value=stas.ttest_1samp(a=titan_sales_df['New Scheme (in thousands)'],popmean=73.034)\n",
    "print(\"T_static Value is {} and Probablilty is {}\".format(t_stat,p_value))"
   ]
  },
  {
   "cell_type": "code",
   "execution_count": 55,
   "metadata": {},
   "outputs": [
    {
     "name": "stdout",
     "output_type": "stream",
     "text": [
      "The Type 1 Error for the New Scheme Mean >= 73.034 is 0.9107086997035911\n"
     ]
    }
   ],
   "source": [
    "# So if the average output must increase by £5000 in the scheme compared to the old scheme. \n",
    "#( i.e New Scheme Mean must be greater than or equal to 73.034). So \n",
    "\n",
    "type1_error= p_value + (1 - p_value)/2\n",
    "\n",
    "print(\"The Type 1 Error for the New Scheme Mean >= 73.034 is {}\".format(type1_error))"
   ]
  },
  {
   "cell_type": "markdown",
   "metadata": {},
   "source": [
    "# b) What is the p- value of the hypothesis test if we test for a difference of 5000? (10 points)\n",
    "\n"
   ]
  },
  {
   "cell_type": "code",
   "execution_count": 56,
   "metadata": {},
   "outputs": [
    {
     "name": "stdout",
     "output_type": "stream",
     "text": [
      "The probability for the New Scheme Mean >= 73.034 is 0.9107086997035911\n"
     ]
    }
   ],
   "source": [
    "# So if the average output must increase by £5000 in the scheme compared to the old scheme. \n",
    "#( i.e New Scheme Mean must be greater than or equal to 73.034). So \n",
    "\n",
    "print(\"The probability for the New Scheme Mean >= 73.034 is {}\".format(type1_error))"
   ]
  },
  {
   "cell_type": "markdown",
   "metadata": {},
   "source": [
    "#        c) Power of the test (5 points)\n",
    "\n"
   ]
  },
  {
   "cell_type": "code",
   "execution_count": 57,
   "metadata": {},
   "outputs": [
    {
     "name": "stdout",
     "output_type": "stream",
     "text": [
      "The probability for the Null Hypothesis being False. i.e Beta is 0.1785826005928176\n"
     ]
    }
   ],
   "source": [
    "# Probablilty of Null Hypothesis is False is \n",
    "1-p_value\n",
    "print(\"The probability for the Null Hypothesis being False. i.e Beta is {}\".format(1-p_value))"
   ]
  },
  {
   "cell_type": "code",
   "execution_count": 58,
   "metadata": {},
   "outputs": [
    {
     "name": "stdout",
     "output_type": "stream",
     "text": [
      "The Power of Test is 0.8214173994071824\n"
     ]
    }
   ],
   "source": [
    "print(\"The Power of Test is {}\".format(1-(1-p_value)))"
   ]
  },
  {
   "cell_type": "code",
   "execution_count": null,
   "metadata": {},
   "outputs": [],
   "source": []
  },
  {
   "cell_type": "code",
   "execution_count": null,
   "metadata": {},
   "outputs": [],
   "source": []
  }
 ],
 "metadata": {
  "kernelspec": {
   "display_name": "Python 3",
   "language": "python",
   "name": "python3"
  },
  "language_info": {
   "codemirror_mode": {
    "name": "ipython",
    "version": 3
   },
   "file_extension": ".py",
   "mimetype": "text/x-python",
   "name": "python",
   "nbconvert_exporter": "python",
   "pygments_lexer": "ipython3",
   "version": "3.6.5"
  }
 },
 "nbformat": 4,
 "nbformat_minor": 2
}
