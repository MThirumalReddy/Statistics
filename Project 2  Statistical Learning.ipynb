{
 "cells": [
  {
   "cell_type": "markdown",
   "metadata": {},
   "source": [
    "# Find the mean of old scheme and new scheme column. (5 points)\n"
   ]
  },
  {
   "cell_type": "code",
   "execution_count": 1,
   "metadata": {},
   "outputs": [],
   "source": [
    "import numpy as np\n",
    "import pandas as pd"
   ]
  },
  {
   "cell_type": "code",
   "execution_count": 28,
   "metadata": {},
   "outputs": [
    {
     "name": "stdout",
     "output_type": "stream",
     "text": [
      "Mean of Old Scheme is 68.03333333333333\n",
      "Mean of Old Scheme is 72.03333333333333\n"
     ]
    }
   ],
   "source": [
    "titan_sales_df=pd.read_excel(io=\"file://HTIPL92961/Users/m00903181/Desktop/Project%201%20%20Supervised%20Learning/Titan_Data.xls\")\n",
    "titan_sales_df['Old Scheme (in thousands)'].mean()\n",
    "titan_sales_df['New Scheme (in thousands)'].mean()\n",
    "print(\"Mean of Old Scheme is {}\".format(titan_sales_df['Old Scheme (in thousands)'].mean()))\n",
    "print(\"Mean of Old Scheme is {}\".format(titan_sales_df['New Scheme (in thousands)'].mean()))\n",
    "\n",
    "\n"
   ]
  },
  {
   "cell_type": "markdown",
   "metadata": {},
   "source": [
    "# Use the five percent significance test over the data to determine the p value to check new scheme has significantly raised outputs? (10 points)\n"
   ]
  },
  {
   "cell_type": "code",
   "execution_count": 31,
   "metadata": {},
   "outputs": [
    {
     "data": {
      "text/plain": [
       "Ttest_indResult(statistic=-0.6937067608923764, pvalue=0.49063515686248105)"
      ]
     },
     "execution_count": 31,
     "metadata": {},
     "output_type": "execute_result"
    }
   ],
   "source": [
    "from scipy.stats import ttest_ind\n",
    "ttest_ind(titan_sales_df['Old Scheme (in thousands)'],titan_sales_df['New Scheme (in thousands)'])\n"
   ]
  },
  {
   "cell_type": "markdown",
   "metadata": {},
   "source": [
    "# What conclusion does the test (p-value) lead to? (2.5 points)\n",
    "\n",
    "#Null Hypothesis : There is no significant Increase in Output Sales\n",
    "#Alternate Hypothesis : New Scheme has significantly Raised Output Sales\n"
   ]
  },
  {
   "cell_type": "code",
   "execution_count": null,
   "metadata": {},
   "outputs": [],
   "source": [
    "# Since the P value is Greater than 0.05 ( default alpha), we will be Accepting Null Hypothesis and Alternate Hypothesis is rejected.\n",
    "# So New Scheme has no effect in Increase of Sales Output"
   ]
  },
  {
   "cell_type": "markdown",
   "metadata": {},
   "source": [
    "# Suppose it has been calculated that in order for Titan to break even, the average output must increase by £5000 in the scheme compared to the old scheme. If this figure is alternative hypothesis, what is:\n"
   ]
  },
  {
   "cell_type": "markdown",
   "metadata": {},
   "source": [
    "#        a) The probability of a type 1 error? (2.5 points)\n",
    "\n"
   ]
  },
  {
   "cell_type": "code",
   "execution_count": null,
   "metadata": {},
   "outputs": [],
   "source": []
  }
 ],
 "metadata": {
  "kernelspec": {
   "display_name": "Python 3",
   "language": "python",
   "name": "python3"
  },
  "language_info": {
   "codemirror_mode": {
    "name": "ipython",
    "version": 3
   },
   "file_extension": ".py",
   "mimetype": "text/x-python",
   "name": "python",
   "nbconvert_exporter": "python",
   "pygments_lexer": "ipython3",
   "version": "3.6.5"
  }
 },
 "nbformat": 4,
 "nbformat_minor": 2
}
