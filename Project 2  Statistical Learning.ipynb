{
 "cells": [
  {
   "cell_type": "markdown",
   "metadata": {},
   "source": [
    "# Find the mean of old scheme and new scheme column. (5 points)\n"
   ]
  },
  {
   "cell_type": "code",
   "execution_count": 1,
   "metadata": {},
   "outputs": [],
   "source": [
    "import numpy as np\n",
    "import pandas as pd"
   ]
  },
  {
   "cell_type": "code",
   "execution_count": 7,
   "metadata": {},
   "outputs": [
    {
     "name": "stdout",
     "output_type": "stream",
     "text": [
      "Mean of Old Scheme is 68.03333333333333\n",
      "Mean of New Scheme is 72.03333333333333\n"
     ]
    }
   ],
   "source": [
    "titan_sales_df=pd.read_excel(io=\"Titan_Data.xls\")\n",
    "titan_sales_df['Old Scheme (in thousands)'].mean()\n",
    "titan_sales_df['New Scheme (in thousands)'].mean()\n",
    "print(\"Mean of Old Scheme is {}\".format(titan_sales_df['Old Scheme (in thousands)'].mean()))\n",
    "print(\"Mean of New Scheme is {}\".format(titan_sales_df['New Scheme (in thousands)'].mean()))\n",
    "\n",
    "\n"
   ]
  },
  {
   "cell_type": "markdown",
   "metadata": {},
   "source": [
    "# Use the five percent significance test over the data to determine the p value to check new scheme has significantly raised outputs? (10 points)\n"
   ]
  },
  {
   "cell_type": "code",
   "execution_count": 8,
   "metadata": {},
   "outputs": [
    {
     "data": {
      "text/plain": [
       "Ttest_relResult(statistic=-1.5559143823544377, pvalue=0.13057553961337662)"
      ]
     },
     "execution_count": 8,
     "metadata": {},
     "output_type": "execute_result"
    }
   ],
   "source": [
    "from scipy.stats import ttest_rel\n",
    "ttest_rel(titan_sales_df['Old Scheme (in thousands)'],titan_sales_df['New Scheme (in thousands)'])\n"
   ]
  },
  {
   "cell_type": "markdown",
   "metadata": {},
   "source": [
    "# What conclusion does the test (p-value) lead to? (2.5 points)\n",
    "\n",
    "#Null Hypothesis : There is no significant Increase in Output Sales. i.e there is no differance between Mean before New Sales Policy and Mean After Sales policy.  ( Population Mean Before Sales Policy = Population Mean after Sales Policy)\n",
    "\n",
    "#Alternate Hypothesis : New Scheme has significantly Raised Output Sales. i.e Population Mean After Sales Policy > Population Mean Before Sales Polic1y ( Only Upper Tail). Lower Tail will be the Population Mean After Sales Policy < Population Mean Before Sales Policy.\n",
    "\n",
    "#Since t(static) is not less than Critical T( alpha=.05/2) ( -1.5559 not less than -2.0452) or t(static) is not greater than Critical T( alpha=.05)/2) ( -1.5559 not greater than 2.0452). So We accept Null Hypothesis.\n",
    "\n",
    "# So New Scheme has not increased the Sales Output"
   ]
  },
  {
   "cell_type": "markdown",
   "metadata": {},
   "source": [
    "# 4. Suppose it has been calculated that in order for Titan to break even, the average output must increase by £5000 in the scheme compared to the old scheme. If this figure is alternative hypothesis, what is:\n"
   ]
  },
  {
   "cell_type": "markdown",
   "metadata": {},
   "source": [
    "#        a) The probability of a type 1 error? (2.5 points)\n",
    "\n"
   ]
  },
  {
   "cell_type": "code",
   "execution_count": 12,
   "metadata": {},
   "outputs": [
    {
     "name": "stdout",
     "output_type": "stream",
     "text": [
      "T_static Value is -0.3889785955886094 and Probablilty is 0.7001334912613286\n"
     ]
    }
   ],
   "source": [
    "#Null Hypothesis: The Differance in Sales Mean is equal 5 (in thousands)\n",
    "#Alternate Hypothesis: The Differance in Sales Mean is Not Equal to  5 ( 2 Tailed)\n",
    "#Alternate Hypothesis: The Differance in Sales Mean is Greater than  5 ( Upper Tailed)\n",
    "#Alternate Hypothesis: The Differance in Sales Mean is Less than  5 ( Lower Tailed)\n",
    "# Caluclating the test for  Population Mean  using Single T Test.\n",
    "\n",
    "import scipy.stats as stas\n",
    "titan_diff_df=titan_sales_df['New Scheme (in thousands)'] - titan_sales_df['Old Scheme (in thousands)']\n",
    "t_stat,p_value=stas.ttest_1samp(a=titan_diff_df,popmean=5)\n",
    "print(\"T_static Value is {} and Probablilty is {}\".format(t_stat,p_value))"
   ]
  },
  {
   "cell_type": "code",
   "execution_count": 17,
   "metadata": {},
   "outputs": [
    {
     "name": "stdout",
     "output_type": "stream",
     "text": [
      "The Type 1 Error for the Differance in Sales Mean >= 5 is 0.8500667456306643\n"
     ]
    }
   ],
   "source": [
    "# So if the average output must increase by £5000 in the scheme compared to the old scheme. \n",
    "#( i.e New Scheme Mean must be greater than or equal to 73.034). So \n",
    "\n",
    "type1_error= p_value + (1 - p_value)/2\n",
    "\n",
    "print(\"The Type 1 Error for the Differance in Sales Mean >= 5 is {}\".format(type1_error))"
   ]
  },
  {
   "cell_type": "markdown",
   "metadata": {},
   "source": [
    "# b) What is the p- value of the hypothesis test if we test for a difference of 5000? (10 points)\n",
    "\n"
   ]
  },
  {
   "cell_type": "code",
   "execution_count": 18,
   "metadata": {},
   "outputs": [
    {
     "name": "stdout",
     "output_type": "stream",
     "text": [
      "The probability for the Differance in Sales Mean >= 5 is 0.8500667456306643\n"
     ]
    }
   ],
   "source": [
    "# So if the average output must increase by £5000 in the scheme compared to the old scheme. \n",
    "#( i.e New Scheme Mean must be greater than or equal to 73.034). So \n",
    "\n",
    "print(\"The probability for the Differance in Sales Mean >= 5 is {}\".format(type1_error))"
   ]
  },
  {
   "cell_type": "markdown",
   "metadata": {},
   "source": [
    "#        c) Power of the test (5 points)\n",
    "\n"
   ]
  },
  {
   "cell_type": "code",
   "execution_count": 19,
   "metadata": {},
   "outputs": [
    {
     "name": "stdout",
     "output_type": "stream",
     "text": [
      "The probability for the Null Hypothesis being False. i.e Beta is 0.2998665087386714\n"
     ]
    }
   ],
   "source": [
    "# Probablilty of Null Hypothesis is False is \n",
    "1-p_value\n",
    "print(\"The probability for the Null Hypothesis being False. i.e Beta is {}\".format(1-p_value))"
   ]
  },
  {
   "cell_type": "code",
   "execution_count": 20,
   "metadata": {},
   "outputs": [
    {
     "name": "stdout",
     "output_type": "stream",
     "text": [
      "The Power of Test is 0.7001334912613286\n"
     ]
    }
   ],
   "source": [
    "print(\"The Power of Test is {}\".format(1-(1-p_value)))"
   ]
  }
 ],
 "metadata": {
  "kernelspec": {
   "display_name": "Python 3",
   "language": "python",
   "name": "python3"
  },
  "language_info": {
   "codemirror_mode": {
    "name": "ipython",
    "version": 3
   },
   "file_extension": ".py",
   "mimetype": "text/x-python",
   "name": "python",
   "nbconvert_exporter": "python",
   "pygments_lexer": "ipython3",
   "version": "3.6.5"
  }
 },
 "nbformat": 4,
 "nbformat_minor": 2
}
